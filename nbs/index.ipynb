{
 "cells": [
  {
   "cell_type": "markdown",
   "metadata": {},
   "source": [
    "# nolib_nbdev\n",
    "\n",
    "> How to create nbdev powered docs without a library!"
   ]
  },
  {
   "cell_type": "markdown",
   "metadata": {},
   "source": [
    "This repo shows a minimal example of how to create a documentation site with the features of nbdev, without having to create a nbdev library.\n",
    "\n",
    "## How This Repo Was Created\n",
    "\n",
    "This repo was created by using `nbdev_new`, but then deleting `setup.py` and the `lib_path` folder.\n",
    "\n",
    "## How To Use\n",
    "\n",
    "We can use this project like any nbdev project!"
   ]
  },
  {
   "cell_type": "markdown",
   "metadata": {},
   "source": [
    "#### To publish the docs:"
   ]
  },
  {
   "cell_type": "markdown",
   "metadata": {},
   "source": [
    "```bash\n",
    "nbdev_proc_nbs && cd _proc && quarto publish\n",
    "```"
   ]
  },
  {
   "cell_type": "markdown",
   "metadata": {},
   "source": [
    "#### To test the docs:\n",
    "    \n",
    "```bash\n",
    "nbdev_test_nbs\n",
    "```\n",
    "\n",
    "#### To preview the docs:\n",
    "    \n",
    "```bash\n",
    "nbdev_preview\n",
    "```"
   ]
  },
  {
   "cell_type": "markdown",
   "metadata": {},
   "source": [
    "#### Demo\n",
    "\n",
    "See [This page]()"
   ]
  },
  {
   "cell_type": "code",
   "execution_count": null,
   "metadata": {},
   "outputs": [],
   "source": []
  }
 ],
 "metadata": {
  "kernelspec": {
   "display_name": "Python 3 (ipykernel)",
   "language": "python",
   "name": "python3"
  }
 },
 "nbformat": 4,
 "nbformat_minor": 4
}
