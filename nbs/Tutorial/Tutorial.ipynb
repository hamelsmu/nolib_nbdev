{
 "cells": [
  {
   "cell_type": "markdown",
   "id": "bc0a7f6e-d702-4125-87d2-1f42eb25be91",
   "metadata": {},
   "source": [
    "# Tutorial\n",
    "> A nbdev notebook without an associated library"
   ]
  },
  {
   "cell_type": "markdown",
   "id": "e0f1ca7e-e319-4ae4-94b9-21dac29d8dc9",
   "metadata": {},
   "source": [
    "You can use nbdev to render docs without creating a library if you like. "
   ]
  },
  {
   "cell_type": "markdown",
   "id": "1ea588bf-37e1-432d-9884-cefccef0c925",
   "metadata": {},
   "source": [
    "## Using `show_doc`\n",
    "\n",
    "`nbdev.showdoc.show_doc` offers a nice way to render documentation for APIs:"
   ]
  },
  {
   "cell_type": "code",
   "execution_count": null,
   "id": "abd24f61-eb1d-46c1-807e-a20036cc26b7",
   "metadata": {},
   "outputs": [],
   "source": [
    "#|hide\n",
    "from nbdev.showdoc import show_doc\n",
    "from fastcore.foundation import L"
   ]
  },
  {
   "cell_type": "markdown",
   "id": "4d6be57c-86c8-4ccf-b697-d8a1f48d2d2b",
   "metadata": {},
   "source": [
    "Here is L from fastcore"
   ]
  },
  {
   "cell_type": "code",
   "execution_count": null,
   "id": "50417cb4-2692-46b4-8bba-1e0bb7ba0ba3",
   "metadata": {},
   "outputs": [
    {
     "data": {
      "text/markdown": [
       "---\n",
       "\n",
       "[source](https://github.com/fastai/fastcore/blob/master/fastcore/foundation.py#LNone){target=\"_blank\" style=\"float:right; font-size:smaller\"}\n",
       "\n",
       "### L\n",
       "\n",
       ">      L (items=None, *rest, use_list=False, match=None)\n",
       "\n",
       "Behaves like a list of `items` but can also index with list of indices or masks"
      ],
      "text/plain": [
       "---\n",
       "\n",
       "[source](https://github.com/fastai/fastcore/blob/master/fastcore/foundation.py#LNone){target=\"_blank\" style=\"float:right; font-size:smaller\"}\n",
       "\n",
       "### L\n",
       "\n",
       ">      L (items=None, *rest, use_list=False, match=None)\n",
       "\n",
       "Behaves like a list of `items` but can also index with list of indices or masks"
      ]
     },
     "execution_count": null,
     "metadata": {},
     "output_type": "execute_result"
    }
   ],
   "source": [
    "show_doc(L)"
   ]
  },
  {
   "cell_type": "markdown",
   "id": "c75aeed1-d69f-4528-8a6a-ebe6494b4dff",
   "metadata": {},
   "source": [
    "## Auto-linking with Backticks\n",
    "\n",
    "One cool thing about documentation functionality is the ability to link to other nbdev built projects with backtick notation.  For example the following text will be automatically turned into a link: `fastcore.foundation.L.cycle`:\n",
    "\n",
    "Noticed how `L.cycle` is automatically linked to the correct documentation in the sentence above!"
   ]
  },
  {
   "cell_type": "markdown",
   "id": "12f09773-2156-4b6a-a5e1-f43cc5c581d8",
   "metadata": {},
   "source": [
    "## Nbdev Directives"
   ]
  },
  {
   "cell_type": "markdown",
   "id": "57c1bc15-2fd3-4381-8081-826b23c9704f",
   "metadata": {},
   "source": [
    "You can use nbdev directives as well.  For example you will not see the below code block, because it uses the `#|hide` directive:"
   ]
  },
  {
   "cell_type": "code",
   "execution_count": null,
   "id": "fa670eda-de7c-49e2-a04c-2de5230b0d89",
   "metadata": {},
   "outputs": [
    {
     "name": "stdout",
     "output_type": "stream",
     "text": [
      "you will not see me\n"
     ]
    }
   ],
   "source": [
    "#|hide\n",
    "print('you will not see me')"
   ]
  },
  {
   "cell_type": "markdown",
   "id": "0b4c69bc-719c-429a-8c2e-4b8ec5e6d3a8",
   "metadata": {},
   "source": [
    "## Unit Tests\n",
    "\n",
    "You can still leverage the unit testing framework of nbdev with `nbdev_test` even if you have no library!"
   ]
  },
  {
   "cell_type": "code",
   "execution_count": null,
   "id": "a2edfb93-3093-46f4-9de5-8882c343a8c9",
   "metadata": {},
   "outputs": [],
   "source": [
    "assert 'foo' != 'bar'"
   ]
  },
  {
   "cell_type": "code",
   "execution_count": null,
   "id": "67421b7b-d4cc-4d7e-8709-53f554a9d297",
   "metadata": {},
   "outputs": [
    {
     "name": "stdout",
     "output_type": "stream",
     "text": [
      "Success.\n"
     ]
    }
   ],
   "source": [
    "!nbdev_test"
   ]
  },
  {
   "cell_type": "code",
   "execution_count": null,
   "id": "2d9d332e-c013-477f-8b93-59e256673cf3",
   "metadata": {},
   "outputs": [],
   "source": []
  }
 ],
 "metadata": {
  "kernelspec": {
   "display_name": "Python 3 (ipykernel)",
   "language": "python",
   "name": "python3"
  }
 },
 "nbformat": 4,
 "nbformat_minor": 5
}
